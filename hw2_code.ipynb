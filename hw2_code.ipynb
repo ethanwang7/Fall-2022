{
 "cells": [
  {
   "cell_type": "code",
   "execution_count": 1,
   "metadata": {},
   "outputs": [],
   "source": [
    "import numpy as np\n",
    "import pandas as pd\n",
    "import math\n",
    "import matplotlib.pyplot as plt"
   ]
  },
  {
   "cell_type": "code",
   "execution_count": 2,
   "metadata": {},
   "outputs": [
    {
     "name": "stdout",
     "output_type": "stream",
     "text": [
      "      y  X1  X2  X3  X4  X5  X6  X7  X8  X9  X10  X11  X12  X13  X14  X15\n",
      "0     1   1   1  -1   1  -1  -1   1  -1   1    1   -1   -1   -1   -1   -1\n",
      "1     1   1   1  -1   1  -1   1   1   1   1    1   -1   -1   -1    1   -1\n",
      "2    -1   1   1  -1  -1  -1  -1  -1   1  -1    1    1    1   -1    1    1\n",
      "3     1  -1  -1   1   1   1  -1  -1   1   1   -1   -1    1    1    1   -1\n",
      "4    -1   1  -1  -1   1  -1   1   1   1  -1   -1   -1    1   -1   -1    1\n",
      "...  ..  ..  ..  ..  ..  ..  ..  ..  ..  ..  ...  ...  ...  ...  ...  ...\n",
      "4995 -1   1  -1   1  -1  -1  -1  -1   1  -1    1   -1    1    1    1    1\n",
      "4996  1   1   1   1  -1   1   1   1   1  -1   -1   -1    1    1    1   -1\n",
      "4997 -1   1  -1  -1  -1   1   1  -1  -1   1    1   -1    1    1   -1   -1\n",
      "4998  1   1  -1   1   1   1  -1   1   1  -1    1    1   -1   -1   -1   -1\n",
      "4999 -1  -1  -1  -1   1  -1  -1   1   1   1   -1   -1    1   -1   -1    1\n",
      "\n",
      "[5000 rows x 16 columns]\n"
     ]
    }
   ],
   "source": [
    "train = pd.read_csv(\"data/classtrain.csv\")\n",
    "test = pd.read_csv(\"data/classtest.csv\")\n",
    "\n",
    "train2 = pd.read_csv(\"data/classtrain02.csv\")\n",
    "train3 = pd.read_csv(\"data/classtrain03.csv\")"
   ]
  },
  {
   "cell_type": "code",
   "execution_count": 3,
   "metadata": {},
   "outputs": [],
   "source": [
    "#calculates the information content of y\n",
    "def infocontent(df):\n",
    "    total = 0\n",
    "    for y in df['y'].value_counts():\n",
    "        total = total + ((y / len(df)) * math.log2((y / len(df))))   \n",
    "    \n",
    "    return -total"
   ]
  },
  {
   "cell_type": "code",
   "execution_count": 52,
   "metadata": {},
   "outputs": [],
   "source": [
    "#returns the predicted y of the data using classification trees\n",
    "def decisiontreeclass(data, traindata, y_average, minsize):\n",
    "    \n",
    "    #stopping conditions, branch terminates when it reaches minsize or if all the y values of the remaining data are the same\n",
    "    #traindata builds the tree, data tests the tree\n",
    "    if((len(traindata) <= minsize) | (len(traindata['y'].value_counts()) < 2)):\n",
    "        y_class = 0\n",
    "        \n",
    "        if(len(traindata['y'].value_counts()) == 1):            \n",
    "            y_class = traindata['y'].value_counts().index[0]\n",
    "        else:\n",
    "            if(traindata['y'].value_counts()[-1] > traindata['y'].value_counts()[1]):\n",
    "                y_class = -1\n",
    "            else:\n",
    "                y_class = 1\n",
    "        \n",
    "        \n",
    "        \n",
    "        for d in data.index:\n",
    "            y_average[d] = y_class\n",
    "           \n",
    "        return y_average\n",
    "    \n",
    "    \n",
    "    hy = infocontent(traindata) # information content of y\n",
    "    maxgain = 0 #maximium information gain\n",
    "    xi = '' #x variable with maximum information gain\n",
    "    \n",
    "    for i in traindata:\n",
    "        if((i != 'y')):\n",
    "            hxy = 0\n",
    "            for j in traindata[i].value_counts().index:\n",
    "                xdata = traindata[traindata[i] == j]\n",
    "\n",
    "                xprob = traindata[i].value_counts()[j] / len(traindata)\n",
    "                \n",
    "                hxy = hxy + (xprob * infocontent(xdata)) #conditional information content of y given x\n",
    "                \n",
    "            \n",
    "            ig = hy - hxy #information gain\n",
    "   \n",
    "            if(ig > maxgain):\n",
    "                maxgain = ig\n",
    "                xi = i\n",
    "            \n",
    "    \n",
    "    #splits the dataset into two subsets for recursion \n",
    "    posfinal = data[data[xi] == 1]\n",
    "    negfinal = data[data[xi] == -1]\n",
    "    \n",
    "    posfinaltrain = traindata[traindata[xi] == 1]\n",
    "    negfinaltrain = traindata[traindata[xi] == -1]\n",
    "    \n",
    "    #recursively constructs decision tree until minimum sample size is reached or passed\n",
    "    # note that the left branch is -1 and the right branch is 1\n",
    "    y_average = decisiontreeclass(negfinal, negfinaltrain, y_average, minsize)\n",
    "    y_average = decisiontreeclass(posfinal, posfinaltrain, y_average, minsize)\n",
    "    \n",
    "    return y_average"
   ]
  },
  {
   "cell_type": "code",
   "execution_count": 53,
   "metadata": {},
   "outputs": [
    {
     "name": "stdout",
     "output_type": "stream",
     "text": [
      "0     -1\n",
      "1     -1\n",
      "2     -1\n",
      "3     -1\n",
      "4     -1\n",
      "      ..\n",
      "495    1\n",
      "496   -1\n",
      "497   -1\n",
      "498   -1\n",
      "499   -1\n",
      "Name: y, Length: 500, dtype: int64\n"
     ]
    },
    {
     "data": {
      "text/plain": [
       "True"
      ]
     },
     "execution_count": 53,
     "metadata": {},
     "output_type": "execute_result"
    }
   ],
   "source": [
    "y_pred = test['y'].copy()\n",
    "decision_tree = decisiontreeclass(test, train, y_pred, 273)\n",
    "print(decision_tree)"
   ]
  },
  {
   "cell_type": "code",
   "execution_count": 6,
   "metadata": {},
   "outputs": [],
   "source": [
    "# Returns the number of false classifications of the predicted y against the actual y\n",
    "def misclassifications(data, tree):\n",
    "    classify = data['y'].copy()\n",
    "    for i in data['y'].index:\n",
    "        if(data['y'].iloc[i] == tree.iloc[i]):\n",
    "            classify[i] = True\n",
    "        else:\n",
    "            classify[i] = False\n",
    "            \n",
    "    if(len(classify.value_counts()) == 1):\n",
    "        return 0\n",
    "    else:\n",
    "        return classify.value_counts()[False]\n",
    "    \n",
    "    return classify.value_counts()[False]"
   ]
  },
  {
   "cell_type": "code",
   "execution_count": 60,
   "metadata": {},
   "outputs": [
    {
     "name": "stdout",
     "output_type": "stream",
     "text": [
      "[158, 158, 89, 89, 86, 35, 11]\n"
     ]
    },
    {
     "data": {
      "text/plain": [
       "Text(0.5, 1.0, '# of Misclassifications for Testing Data')"
      ]
     },
     "execution_count": 60,
     "metadata": {},
     "output_type": "execute_result"
    },
    {
     "data": {
      "image/png": "[encoded data removed]",
      "text/plain": [
       "<Figure size 432x288 with 1 Axes>"
      ]
     },
     "metadata": {
      "needs_background": "light"
     },
     "output_type": "display_data"
    }
   ],
   "source": [
    "#Plot number of misclassifications against sample size\n",
    "sizes = [4999, 2499, 1111, 999, 499, 299, 277]\n",
    "errors = []\n",
    "for s in sizes:\n",
    "    temp_y = test['y'].copy()\n",
    "    size_tree = decisiontreeclass(test, train, temp_y, s)\n",
    "    errors.append(misclassifications(test, size_tree))\n",
    "    \n",
    "print(errors)\n",
    "plt.plot(sizes, errors)\n",
    "plt.xlim([5000, 0])\n",
    "plt.xlabel(\"Minimum Sample Size\")\n",
    "plt.ylabel(\"# of Misclassifications\")\n",
    "plt.title(\"# of Misclassifications for Testing Data\")"
   ]
  },
  {
   "cell_type": "code",
   "execution_count": 10,
   "metadata": {},
   "outputs": [],
   "source": [
    "def newsigmadata(data, sigma):\n",
    "    newdata = data.copy()\n",
    "    np.random.seed(0)\n",
    "    newdata['y'] = np.sign(newdata['X1']*.9 + newdata['X2']*.9**2 + newdata['X3']*.9**3 + newdata['X4']*.9**4\n",
    "                   +newdata['X5']*.9**5 + np.random.normal(loc=0, scale=sigma, size=len(newdata)))\n",
    "    \n",
    "    return newdata"
   ]
  },
  {
   "cell_type": "code",
   "execution_count": 55,
   "metadata": {},
   "outputs": [
    {
     "name": "stdout",
     "output_type": "stream",
     "text": [
      "[236, 201, 140, 89, 37, 8, 11, 11]\n"
     ]
    },
    {
     "data": {
      "text/plain": [
       "Text(0.5, 1.0, '# of Misclassifications for Testing Data')"
      ]
     },
     "execution_count": 55,
     "metadata": {},
     "output_type": "execute_result"
    },
    {
     "data": {
      "image/png": "[encoded data removed]",
      "text/plain": [
       "<Figure size 432x288 with 1 Axes>"
      ]
     },
     "metadata": {
      "needs_background": "light"
     },
     "output_type": "display_data"
    }
   ],
   "source": [
    "#plotting # of misclassifications against sigma\n",
    "noise = [10, 5, 2, 1, .5, .25, .1, 0]\n",
    "nerrors = []\n",
    "\n",
    "for n in noise:    \n",
    "    newTrain = newsigmadata(train, n)\n",
    "    newTest = newsigmadata(test, n)\n",
    "    new_y = newTest['y'].copy()\n",
    "    noise_tree = decisiontreeclass(newTest, newTrain, new_y, 277)\n",
    "    nerrors.append(misclassifications(newTest, noise_tree))\n",
    "    \n",
    "\n",
    "print(nerrors)\n",
    "plt.plot(noise, nerrors)\n",
    "plt.xlim([10, 0])\n",
    "plt.xlabel(\"Standard Deviation of Noise Term\")\n",
    "plt.ylabel(\"# of Misclassifications\")\n",
    "plt.title(\"# of Misclassifications for Testing Data\")"
   ]
  },
  {
   "cell_type": "code",
   "execution_count": 14,
   "metadata": {},
   "outputs": [
    {
     "data": {
      "text/plain": [
       "Text(0.5, 1.0, '# of Irrelevant Features Found in Tree')"
      ]
     },
     "execution_count": 14,
     "metadata": {},
     "output_type": "execute_result"
    },
    {
     "data": {
      "image/png": "[encoded data removed]",
      "text/plain": [
       "<Figure size 432x288 with 1 Axes>"
      ]
     },
     "metadata": {
      "needs_background": "light"
     },
     "output_type": "display_data"
    }
   ],
   "source": [
    "#plotting number of extra variables in the tree against sigma\n",
    "extras = [20, 9, 0, 0, 0]\n",
    "noises = [10, 5, 2, 1, 0]\n",
    "plt.plot(noises, extras)\n",
    "plt.xlim([10, 0])\n",
    "plt.xlabel(\"Standard Deviation of Noise Term\")\n",
    "plt.ylabel(\"# of Irrelevant Features\")\n",
    "plt.title(\"# of Irrelevant Features Found in Tree\")"
   ]
  },
  {
   "cell_type": "code",
   "execution_count": 56,
   "metadata": {},
   "outputs": [],
   "source": [
    "#calculates the probability of each data point belonging to +1 using classification trees\n",
    "def decisiontreelog(data, traindata, y_average, minsize):\n",
    "    \n",
    "    #stopping conditions, branch terminates when it reaches minsize or if all the y values of the remaining data are the same\n",
    "    if((len(traindata) <= minsize) | (len(traindata['y'].value_counts()) < 2)):\n",
    "        y_prob = 0\n",
    "        \n",
    "        if(len(traindata['y'].value_counts()) == 1):\n",
    "            if(traindata['y'].value_counts().index[0] == 1):\n",
    "                y_prob = 1\n",
    "            else:\n",
    "                y_prob = 0\n",
    "        else:           \n",
    "            y_prob = traindata['y'].value_counts()[1] / len(traindata)\n",
    "            \n",
    "        \n",
    "        for d in data.index:\n",
    "            y_average[d] = y_prob\n",
    "        \n",
    "        \n",
    "        return y_average\n",
    "    \n",
    "    \n",
    "    hy = infocontent(traindata) # information content of y\n",
    "    maxgain = 0 #maximium information gain\n",
    "    xi = '' #x variable with maximum information gain\n",
    "    \n",
    "    for i in traindata:\n",
    "        if((i != 'y')):\n",
    "            hxy = 0\n",
    "            for j in traindata[i].value_counts().index:\n",
    "                xdata = traindata[traindata[i] == j]\n",
    "\n",
    "                xprob = traindata[i].value_counts()[j] / len(traindata)\n",
    "                \n",
    "                hxy = hxy + (xprob * infocontent(xdata)) #conditional information content of y given x\n",
    "                \n",
    "            \n",
    "            ig = hy - hxy #information gain\n",
    "                \n",
    "            if(ig > maxgain):\n",
    "                maxgain = ig\n",
    "                xi = i\n",
    "        \n",
    "    \n",
    "    #splits the dataset into two subsets for recursion \n",
    "    posfinal = data[data[xi] == 1]\n",
    "    negfinal = data[data[xi] == -1]\n",
    "    \n",
    "    posfinaltrain = traindata[traindata[xi] == 1]\n",
    "    negfinaltrain = traindata[traindata[xi] == -1]\n",
    "    \n",
    "    #recursively constructs decision tree until minimum sample size is reached or passed\n",
    "    # note that the left branch is -1 and the right branch is 1\n",
    "    y_average = decisiontreelog(negfinal, negfinaltrain, y_average, minsize)\n",
    "    y_average = decisiontreelog(posfinal, posfinaltrain, y_average, minsize)\n",
    "    \n",
    "    return y_average    "
   ]
  },
  {
   "cell_type": "code",
   "execution_count": 57,
   "metadata": {},
   "outputs": [
    {
     "name": "stdout",
     "output_type": "stream",
     "text": [
      "0      0.503667\n",
      "1      0.000000\n",
      "2      0.000000\n",
      "3      0.503667\n",
      "4      0.000000\n",
      "         ...   \n",
      "495    0.487158\n",
      "496    0.224959\n",
      "497    0.503667\n",
      "498    0.487158\n",
      "499    0.000000\n",
      "Name: y, Length: 500, dtype: float64\n"
     ]
    }
   ],
   "source": [
    "y_pred2 = test['y'].copy().astype(float)\n",
    "log_tree = decisiontreelog(test, train, y_pred2, 1237)\n",
    "print(log_tree)"
   ]
  },
  {
   "cell_type": "code",
   "execution_count": 21,
   "metadata": {},
   "outputs": [],
   "source": [
    "#calculates the logistic error\n",
    "def logerror(y, y_hat):\n",
    "    log_y = np.log(y_hat)\n",
    "    log_y_1 = np.log(1-y_hat)\n",
    "    \n",
    "    log_y[np.isneginf(log_y)] = 0\n",
    "    log_y_1[np.isneginf(log_y_1)] = 0\n",
    "    \n",
    "    loss = np.mean(-y*(log_y) - (1-y)*log_y_1)\n",
    "    return loss"
   ]
  },
  {
   "cell_type": "code",
   "execution_count": 58,
   "metadata": {},
   "outputs": [
    {
     "name": "stderr",
     "output_type": "stream",
     "text": [
      "C:\\Users\\castl\\anaconda3\\lib\\site-packages\\pandas\\core\\series.py:726: RuntimeWarning: divide by zero encountered in log\n",
      "  result = getattr(ufunc, method)(*inputs, **kwargs)\n",
      "C:\\Users\\castl\\anaconda3\\lib\\site-packages\\pandas\\core\\series.py:726: RuntimeWarning: divide by zero encountered in log\n",
      "  result = getattr(ufunc, method)(*inputs, **kwargs)\n",
      "C:\\Users\\castl\\anaconda3\\lib\\site-packages\\pandas\\core\\series.py:726: RuntimeWarning: divide by zero encountered in log\n",
      "  result = getattr(ufunc, method)(*inputs, **kwargs)\n"
     ]
    },
    {
     "name": "stdout",
     "output_type": "stream",
     "text": [
      "[0.4366928966858436, 0.3112202640889002, 0.06207863582727447, 0.01772488577774227, 0.13044322997554186, 0.2545818359756082, 0.033674286848600465]\n"
     ]
    },
    {
     "name": "stderr",
     "output_type": "stream",
     "text": [
      "C:\\Users\\castl\\anaconda3\\lib\\site-packages\\pandas\\core\\series.py:726: RuntimeWarning: divide by zero encountered in log\n",
      "  result = getattr(ufunc, method)(*inputs, **kwargs)\n"
     ]
    },
    {
     "data": {
      "text/plain": [
       "Text(0.5, 1.0, 'Logistic Error for Testing Data')"
      ]
     },
     "execution_count": 58,
     "metadata": {},
     "output_type": "execute_result"
    },
    {
     "data": {
      "image/png": "[encoded data removed]",
      "text/plain": [
       "<Figure size 432x288 with 1 Axes>"
      ]
     },
     "metadata": {
      "needs_background": "light"
     },
     "output_type": "display_data"
    }
   ],
   "source": [
    "#plots logistic error against sample size\n",
    "sizes = [4999, 2499, 1499, 1239, 999, 499, 277]\n",
    "errors = []\n",
    "for s in sizes:\n",
    "    temp_y2 = test['y'].copy().astype(np.float64)\n",
    "    size_tree2 = decisiontreelog(test, train, temp_y2, s)        \n",
    "    errors.append(logerror(test['y'], size_tree2))\n",
    "    \n",
    "print(errors)\n",
    "plt.plot(sizes, errors)\n",
    "plt.xlim([5000, 0])\n",
    "plt.xlabel(\"Minimum Sample Size\")\n",
    "plt.ylabel(\"Logistic Error\")\n",
    "plt.title(\"Logistic Error for Testing Data\")"
   ]
  },
  {
   "cell_type": "code",
   "execution_count": 29,
   "metadata": {},
   "outputs": [],
   "source": [
    "def gradient(X, y, y_hat):\n",
    "    return np.dot(X.T, (y_hat - y))"
   ]
  },
  {
   "cell_type": "code",
   "execution_count": 30,
   "metadata": {},
   "outputs": [],
   "source": [
    "#finds the weight vector w using gradient descent\n",
    "    #times: number of iterations\n",
    "    #alpha: learning rate\n",
    "def logregression(data, traindata, times, alpha):\n",
    "    #traindata builds the model, data tests the model\n",
    "    \n",
    "    X = traindata.drop(['y'], axis=1)#X used to build the model\n",
    "    X = X.replace(-1, 0)\n",
    "    \n",
    "    data_X = data.drop(['y'], axis=1)#X used to test the model\n",
    "    data_X = data_X.replace(-1, 0)\n",
    "    \n",
    "    \n",
    "    y = traindata['y'].replace(-1, 0)#y used to build the model\n",
    "    y = traindata['y'].to_numpy()\n",
    "    y.reshape(len(traindata), 1)\n",
    "    \n",
    "    data_y = data['y'].replace(-1, 0)#y used to test the model\n",
    "    data_y = data['y'].to_numpy()\n",
    "    data_y.reshape(len(data), 1)\n",
    "\n",
    "    w = np.zeros((15, 1))#weight vector\n",
    "    w = w[:, 0]\n",
    "\n",
    "    errors = []# logistic error\n",
    "    \n",
    "    for t in range(times):   \n",
    "        y_hat = 1 / (1 + np.exp(-np.dot(X, w)))\n",
    "        data_y_hat = 1 / (1 + np.exp(-np.dot(data_X, w)))\n",
    "        \n",
    "        dw = gradient(X, y, y_hat)\n",
    "        \n",
    "        w = w - (alpha * dw)\n",
    "\n",
    "        l = logerror(data_y, data_y_hat)\n",
    "        errors.append(l)\n",
    "    \n",
    "    return w, errors\n",
    "    "
   ]
  },
  {
   "cell_type": "code",
   "execution_count": 59,
   "metadata": {},
   "outputs": [
    {
     "name": "stdout",
     "output_type": "stream",
     "text": [
      "[ 0.06889237  0.10928993  0.1352834   0.10878083  0.11543099 -0.31732083\n",
      " -0.37053602 -0.3394795  -0.30583705 -0.37741211 -0.35383551 -0.35280307\n",
      " -0.31521357 -0.35085688 -0.31546552]\n"
     ]
    },
    {
     "data": {
      "text/plain": [
       "Text(0.5, 1.0, 'Logistic Error for Fitted Testing Model')"
      ]
     },
     "execution_count": 59,
     "metadata": {},
     "output_type": "execute_result"
    },
    {
     "data": {
      "image/png": "[encoded data removed]",
      "text/plain": [
       "<Figure size 432x288 with 1 Axes>"
      ]
     },
     "metadata": {
      "needs_background": "light"
     },
     "output_type": "display_data"
    }
   ],
   "source": [
    "#plots logistic error against time\n",
    "t = 500\n",
    "w_pred, logloss = logregression(test, train, t, .000001)\n",
    "print(w_pred)\n",
    "\n",
    "plt.plot(range(1, t+1), logloss)\n",
    "plt.xlabel(\"Time\")\n",
    "plt.ylabel(\"Logistic Error\")\n",
    "plt.title(\"Logistic Error for Fitted Testing Model\")"
   ]
  },
  {
   "cell_type": "code",
   "execution_count": 4,
   "metadata": {},
   "outputs": [
    {
     "data": {
      "text/plain": [
       "array([-1,  1,  1, -1])"
      ]
     },
     "execution_count": 4,
     "metadata": {},
     "output_type": "execute_result"
    }
   ],
   "source": [
    "svm_X = np.array([[-1, 1, -1, 1], [-1, -1, 1, 1]])\n",
    "svm_y = np.array([-1, 1, 1, -1])\n",
    "svm_y"
   ]
  },
  {
   "cell_type": "code",
   "execution_count": 5,
   "metadata": {},
   "outputs": [],
   "source": [
    "def kernel(Xi, Xj, c, degree):\n",
    "    return (c + np.dot(Xi.T, Xj))**degree"
   ]
  },
  {
   "cell_type": "code",
   "execution_count": 124,
   "metadata": {},
   "outputs": [
    {
     "name": "stdout",
     "output_type": "stream",
     "text": [
      "0.25\n"
     ]
    }
   ],
   "source": [
    "#dual SVM problem\n",
    "alpha = [1/8, 1/8, 1/8, 1/8]\n",
    "print(np.sum(alpha) - (.5 *np.sum(np.outer(alpha, alpha) * np.outer(svm_y, svm_y) * kernel(svm_X, svm_X, 1, 2))))"
   ]
  },
  {
   "cell_type": "code",
   "execution_count": 132,
   "metadata": {},
   "outputs": [
    {
     "name": "stdout",
     "output_type": "stream",
     "text": [
      "0.0\n"
     ]
    }
   ],
   "source": [
    "decision_function = np.dot((alpha*svm_y), kernel(svm_X, svm_X, 1, 2))\n",
    "print(decision_function)"
   ]
  }
 ],
 "metadata": {
  "kernelspec": {
   "display_name": "Python 3",
   "language": "python",
   "name": "python3"
  },
  "language_info": {
   "codemirror_mode": {
    "name": "ipython",
    "version": 3
   },
   "file_extension": ".py",
   "mimetype": "text/x-python",
   "name": "python",
   "nbconvert_exporter": "python",
   "pygments_lexer": "ipython3",
   "version": "3.8.5"
  }
 },
 "nbformat": 4,
 "nbformat_minor": 4
}
